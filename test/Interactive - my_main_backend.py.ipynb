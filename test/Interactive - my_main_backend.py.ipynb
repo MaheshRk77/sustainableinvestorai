{
 "cells": [
  {
   "cell_type": "markdown",
   "metadata": {
    "isInteractiveWindowMessageCell": true
   },
   "source": [
    "Connected to susenv (Python 3.10.12)"
   ]
  },
  {
   "cell_type": "code",
   "execution_count": 1,
   "metadata": {},
   "outputs": [],
   "source": [
    "import json\n",
    "import anthropic\n",
    "from PyPDF2 import PdfReader\n",
    "from anthropic import Anthropic, HUMAN_PROMPT, AI_PROMPT\n",
    "import csv\n",
    "import requests \n",
    "import streamlit as st\n",
    "from companydata import company_data\n",
    "selected_company = \"BP\""
   ]
  }
 ],
 "metadata": {
  "kernelspec": {
   "display_name": "susenv",
   "language": "python",
   "name": "python3"
  },
  "language_info": {
   "name": "python",
   "version": "3.10.12"
  }
 },
 "nbformat": 4,
 "nbformat_minor": 2
}
